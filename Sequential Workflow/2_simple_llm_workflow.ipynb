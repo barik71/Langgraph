{
 "cells": [
  {
   "cell_type": "code",
   "execution_count": 14,
   "id": "29d1b282",
   "metadata": {},
   "outputs": [],
   "source": [
    "from langgraph.graph import StateGraph, START, END\n",
    "from typing import TypedDict\n",
    "from langchain_openai import ChatOpenAI\n",
    "from IPython.display import Image\n",
    "from dotenv import load_dotenv"
   ]
  },
  {
   "cell_type": "code",
   "execution_count": 15,
   "id": "2d460c02",
   "metadata": {},
   "outputs": [
    {
     "data": {
      "text/plain": [
       "True"
      ]
     },
     "execution_count": 15,
     "metadata": {},
     "output_type": "execute_result"
    }
   ],
   "source": [
    "load_dotenv()  # take environment variables from .env file"
   ]
  },
  {
   "cell_type": "code",
   "execution_count": 16,
   "id": "cd3b28a1",
   "metadata": {},
   "outputs": [],
   "source": [
    "model = ChatOpenAI()"
   ]
  },
  {
   "cell_type": "code",
   "execution_count": 17,
   "id": "aa545d8d",
   "metadata": {},
   "outputs": [],
   "source": [
    "# create a state graph\n",
    "\n",
    "class LLMState(TypedDict):\n",
    "\n",
    "    question : str \n",
    "    answer : str"
   ]
  },
  {
   "cell_type": "code",
   "execution_count": 21,
   "id": "9f2c9f6a",
   "metadata": {},
   "outputs": [],
   "source": [
    "def llm_qa(state: LLMState) -> LLMState:\n",
    "    # extract question from state\n",
    "    question = state['question']\n",
    "    # form a prompt\n",
    "    prompt = f\"Answer the following question concisely: {question}\"\n",
    "    # ask that question to the llm\n",
    "    answer = model.invoke(prompt).content\n",
    "    # return a new state with the answer\n",
    "    state['answer'] = answer\n",
    "    return state"
   ]
  },
  {
   "cell_type": "code",
   "execution_count": 22,
   "id": "954e94f1",
   "metadata": {},
   "outputs": [],
   "source": [
    "# create our graph\n",
    "\n",
    "graph = StateGraph(LLMState)\n",
    "\n",
    "# add nodes\n",
    "\n",
    "graph.add_node('llm_qa',llm_qa)  \n",
    "\n",
    "# add edges\n",
    "\n",
    "graph.add_edge(START, 'llm_qa')\n",
    "graph.add_edge('llm_qa', END)\n",
    "\n",
    "# compile the graph into a workflow\n",
    "\n",
    "workflow = graph.compile()"
   ]
  },
  {
   "cell_type": "code",
   "execution_count": 23,
   "id": "b1ea422d",
   "metadata": {},
   "outputs": [
    {
     "name": "stdout",
     "output_type": "stream",
     "text": [
      "{'question': 'What is the capital of France?', 'answer': 'Paris'}\n"
     ]
    }
   ],
   "source": [
    "# exucute the graph\n",
    "\n",
    "initial_state = {'question': \"What is the capital of France?\"}\n",
    "\n",
    "final_state = workflow.invoke(initial_state)\n",
    "print(final_state)"
   ]
  },
  {
   "cell_type": "code",
   "execution_count": 25,
   "id": "15c590ce",
   "metadata": {},
   "outputs": [
    {
     "name": "stdout",
     "output_type": "stream",
     "text": [
      "Rajshahi University of Engineering and Technology (RUET) is a prestigious public engineering university located in Rajshahi, Bangladesh. It was established in 1964 as the Engineering College, Rajshahi and later upgraded to a full-fledged university in 1986. \n",
      "\n",
      "RUET offers undergraduate and postgraduate programs in various engineering disciplines including Civil Engineering, Mechanical Engineering, Electrical and Electronic Engineering, Computer Science and Engineering, and many more. The university is known for its high-quality education, research opportunities, and state-of-the-art facilities.\n",
      "\n",
      "RUET has a beautiful and spacious campus with modern amenities such as libraries, laboratories, computer centers, and residential halls for students. The university also has a strong focus on research and innovation, with several faculty members actively engaged in research projects and collaborations with industry partners.\n",
      "\n",
      "Overall, RUET is considered one of the top engineering universities in Bangladesh, and it plays a significant role in producing skilled engineers who contribute to the development of the country.\n"
     ]
    }
   ],
   "source": [
    "ans = model.invoke(\"tell me about RUET?\").content\n",
    "print(ans)"
   ]
  },
  {
   "cell_type": "code",
   "execution_count": null,
   "id": "1dbb3530",
   "metadata": {},
   "outputs": [],
   "source": []
  }
 ],
 "metadata": {
  "kernelspec": {
   "display_name": "myenv",
   "language": "python",
   "name": "python3"
  },
  "language_info": {
   "codemirror_mode": {
    "name": "ipython",
    "version": 3
   },
   "file_extension": ".py",
   "mimetype": "text/x-python",
   "name": "python",
   "nbconvert_exporter": "python",
   "pygments_lexer": "ipython3",
   "version": "3.11.3"
  }
 },
 "nbformat": 4,
 "nbformat_minor": 5
}
