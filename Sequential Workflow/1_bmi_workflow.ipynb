{
 "cells": [
  {
   "cell_type": "code",
   "execution_count": 18,
   "id": "0ef41975",
   "metadata": {},
   "outputs": [],
   "source": [
    "from langgraph.graph import StateGraph, START, END\n",
    "from typing import TypedDict\n",
    "from IPython.display import Image"
   ]
  },
  {
   "cell_type": "code",
   "execution_count": 19,
   "id": "63d3c77a",
   "metadata": {},
   "outputs": [],
   "source": [
    "# define State\n",
    "\n",
    "class BMIState(TypedDict):\n",
    "\n",
    "    weight_kg : float \n",
    "    height_m : float\n",
    "    bmi : float\n",
    "    category : str"
   ]
  },
  {
   "cell_type": "code",
   "execution_count": 20,
   "id": "58eb3c61",
   "metadata": {},
   "outputs": [],
   "source": [
    "def calculate_bmi(state : BMIState) -> BMIState:\n",
    "    weight = state['weight_kg']\n",
    "    height = state['height_m']\n",
    "\n",
    "    bmi = weight/(height**2)\n",
    "\n",
    "    state['bmi'] = round(bmi, 2)\n",
    "\n",
    "    return state\n"
   ]
  },
  {
   "cell_type": "code",
   "execution_count": 21,
   "id": "41efdd77",
   "metadata": {},
   "outputs": [],
   "source": [
    "def categorize_bmi(state : BMIState) -> BMIState:\n",
    "    bmi = state['bmi']\n",
    "\n",
    "    if bmi < 18.5:\n",
    "        category = 'Underweight'\n",
    "    elif 18.5 <= bmi < 24.9:\n",
    "        category = 'Normal weight'\n",
    "    elif 25 <= bmi < 29.9:\n",
    "        category = 'Overweight'\n",
    "    else:\n",
    "        category = 'Obesity'\n",
    "\n",
    "    state['category'] = category\n",
    "\n",
    "    return state"
   ]
  },
  {
   "cell_type": "code",
   "execution_count": 22,
   "id": "a15682f9",
   "metadata": {},
   "outputs": [],
   "source": [
    "# define your graph\n",
    "\n",
    "graph = StateGraph(BMIState)\n",
    "\n",
    "# add nodes to your graph \n",
    "graph.add_node(\"calculate_bmi\", calculate_bmi)\n",
    "graph.add_node(\"categorize_bmi\", categorize_bmi)\n",
    "\n",
    "# add edges to your graph\n",
    "graph.add_edge(START, 'calculate_bmi')\n",
    "graph.add_edge('calculate_bmi', 'categorize_bmi')\n",
    "graph.add_edge('calculate_bmi', END)\n",
    "\n",
    "# complete the graph\n",
    "workflow = graph.compile()"
   ]
  },
  {
   "cell_type": "code",
   "execution_count": 28,
   "id": "1964a44f",
   "metadata": {},
   "outputs": [
    {
     "name": "stdout",
     "output_type": "stream",
     "text": [
      "{'weight_kg': 73, 'height_m': 1.79, 'bmi': 22.78, 'category': 'Normal weight'}\n"
     ]
    }
   ],
   "source": [
    "# execute the graph\n",
    "initial_state = {'weight_kg': 73, 'height_m': 1.79}\n",
    "final_state = workflow.invoke(initial_state)\n",
    "print(final_state)"
   ]
  },
  {
   "cell_type": "code",
   "execution_count": 24,
   "id": "610c4186",
   "metadata": {},
   "outputs": [
    {
     "data": {
      "image/png": "[encoded data removed]",
      "text/plain": [
       "<IPython.core.display.Image object>"
      ]
     },
     "execution_count": 24,
     "metadata": {},
     "output_type": "execute_result"
    }
   ],
   "source": [
    "Image(workflow.get_graph().draw_mermaid_png())"
   ]
  },
  {
   "cell_type": "code",
   "execution_count": null,
   "id": "336ff351",
   "metadata": {},
   "outputs": [],
   "source": []
  }
 ],
 "metadata": {
  "kernelspec": {
   "display_name": "myenv",
   "language": "python",
   "name": "python3"
  },
  "language_info": {
   "codemirror_mode": {
    "name": "ipython",
    "version": 3
   },
   "file_extension": ".py",
   "mimetype": "text/x-python",
   "name": "python",
   "nbconvert_exporter": "python",
   "pygments_lexer": "ipython3",
   "version": "3.11.3"
  }
 },
 "nbformat": 4,
 "nbformat_minor": 5
}
