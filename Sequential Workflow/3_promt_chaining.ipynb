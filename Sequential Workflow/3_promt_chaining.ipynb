{
 "cells": [
  {
   "cell_type": "code",
   "execution_count": 1,
   "id": "71265e45",
   "metadata": {},
   "outputs": [],
   "source": [
    "from langgraph.graph import StateGraph, START, END\n",
    "from typing import TypedDict\n",
    "from langchain_openai import ChatOpenAI\n",
    "from IPython.display import Image\n",
    "from dotenv import load_dotenv"
   ]
  },
  {
   "cell_type": "code",
   "execution_count": 3,
   "id": "5bfb4df0",
   "metadata": {},
   "outputs": [],
   "source": [
    "load_dotenv()  # take environment variables from .env file\n",
    "\n",
    "model = ChatOpenAI()  # You can change the model and temperature as needed"
   ]
  },
  {
   "cell_type": "code",
   "execution_count": 4,
   "id": "dada6bc6",
   "metadata": {},
   "outputs": [],
   "source": [
    "class BlogState(TypedDict):\n",
    "    title : str\n",
    "    outline : str\n",
    "    blog : str"
   ]
  },
  {
   "cell_type": "code",
   "execution_count": 5,
   "id": "776b0d4f",
   "metadata": {},
   "outputs": [],
   "source": [
    "def create_outline(state: BlogState) -> BlogState:\n",
    "    prompt = f\"Create a detailed outline for a blog post with the title: {state['title']}\"\n",
    "    outline = model.invoke(prompt).content\n",
    "    state['outline'] = outline\n",
    "    return state"
   ]
  },
  {
   "cell_type": "code",
   "execution_count": 6,
   "id": "2b9c9457",
   "metadata": {},
   "outputs": [],
   "source": [
    "def create_blog(state: BlogState) -> BlogState:\n",
    "    prompt = f\"Write a detailed blog post on the title - {state['title']} using the following outline:\\n{state['outline']}\"\n",
    "    blog = model.invoke(prompt).content\n",
    "    state['blog'] = blog\n",
    "    return state"
   ]
  },
  {
   "cell_type": "code",
   "execution_count": 8,
   "id": "b9b7dd60",
   "metadata": {},
   "outputs": [],
   "source": [
    "graph = StateGraph(BlogState)\n",
    "\n",
    "# nodes \n",
    "graph.add_node('outline',create_outline)\n",
    "graph.add_node('create_blog',create_blog)\n",
    "\n",
    "# edges\n",
    "graph.add_edge(START,'outline')\n",
    "graph.add_edge('outline','create_blog')\n",
    "graph.add_edge('create_blog',END)\n",
    "\n",
    "# compile and visualize\n",
    "workflow = graph.compile()"
   ]
  },
  {
   "cell_type": "code",
   "execution_count": null,
   "id": "be5a9889",
   "metadata": {},
   "outputs": [
    {
     "name": "stdout",
     "output_type": "stream",
     "text": [
      "\n",
      "\n",
      "I. Introduction\n",
      "Artificial Intelligence (AI) technology has rapidly become an integral part of modern society, with applications ranging from virtual assistants to autonomous vehicles. As AI continues to evolve and improve, its impact on everyday life is only expected to increase. In this blog post, we will explore the current uses of AI in everyday life, potential future applications, challenges and ethical considerations, opportunities for innovation and growth, and the importance of considering the implications of AI in everyday life.\n",
      "\n",
      "II. Current uses of AI in everyday life\n",
      "1. Smart assistants such as Siri and Alexa have become commonplace, helping users with tasks like setting reminders, answering questions, and controlling smart home devices.\n",
      "2. Recommendation algorithms in platforms like Netflix and Spotify analyze user data to provide personalized content recommendations.\n",
      "3. Autonomous vehicles are being developed to improve safety and efficiency on the roads.\n",
      "4. In healthcare, AI is being used for tasks like diagnosis, treatment planning, and personalized medicine.\n",
      "\n",
      "III. Potential future applications of AI in everyday life\n",
      "1. Smart home technology could be enhanced with AI for energy efficiency, security monitoring, and personalized home automation.\n",
      "2. Personalized shopping experiences could be tailored to individual preferences and browsing habits.\n",
      "3. In education, AI could enable personalized learning experiences and provide tutoring to students.\n",
      "4. Workforce automation and augmentation could transform industries and the way we work.\n",
      "\n",
      "IV. Challenges and ethical considerations\n",
      "1. Privacy concerns arise from the collection and use of personal data by AI systems.\n",
      "2. Bias in AI algorithms can perpetuate unfair or discriminatory outcomes.\n",
      "3. The impact on the job market raises questions about job displacement and the need for retraining.\n",
      "4. Potential for misuse or unintended consequences, such as AI systems making biased decisions or being vulnerable to hacking.\n",
      "\n",
      "V. Opportunities for innovation and growth\n",
      "1. Collaboration between AI researchers and industry can drive innovation and product development.\n",
      "2. Investing in AI education and skills development can prepare individuals for the jobs of the future.\n",
      "3. Ethical guidelines and regulations are necessary to ensure responsible development and deployment of AI technologies.\n",
      "4. AI has the potential to improve quality of life and address societal challenges in areas like healthcare, education, and environmental sustainability.\n",
      "\n",
      "VI. Conclusion\n",
      "AI technology is poised to become even more integrated into our everyday lives, offering both opportunities and challenges. As we look to the future of AI in everyday life, it is essential to consider the implications of its widespread adoption. By staying informed, engaging in discussions, and advocating for responsible AI development, we can shape a future where AI enhances our lives for the better. It is imperative for individuals and society as a whole to actively participate in the conversation surrounding the future of AI. By doing so, we can ensure that AI technology is leveraged in a way that benefits humanity while mitigating potential risks. Let us embrace the potential of AI while also being mindful of its impact on our lives.\n"
     ]
    }
   ],
   "source": [
    "initial_state = BlogState(title=\"The Future of AI in Everyday Life\", outline=\"\", blog=\"\")\n",
    "final_state = workflow.invoke(initial_state)\n"
   ]
  },
  {
   "cell_type": "code",
   "execution_count": 12,
   "id": "15aae690",
   "metadata": {},
   "outputs": [
    {
     "name": "stdout",
     "output_type": "stream",
     "text": [
      "\n",
      "\n",
      "I. Introduction\n",
      "Artificial Intelligence (AI) technology has rapidly become an integral part of modern society, with applications ranging from virtual assistants to autonomous vehicles. As AI continues to evolve and improve, its impact on everyday life is only expected to increase. In this blog post, we will explore the current uses of AI in everyday life, potential future applications, challenges and ethical considerations, opportunities for innovation and growth, and the importance of considering the implications of AI in everyday life.\n",
      "\n",
      "II. Current uses of AI in everyday life\n",
      "1. Smart assistants such as Siri and Alexa have become commonplace, helping users with tasks like setting reminders, answering questions, and controlling smart home devices.\n",
      "2. Recommendation algorithms in platforms like Netflix and Spotify analyze user data to provide personalized content recommendations.\n",
      "3. Autonomous vehicles are being developed to improve safety and efficiency on the roads.\n",
      "4. In healthcare, AI is being used for tasks like diagnosis, treatment planning, and personalized medicine.\n",
      "\n",
      "III. Potential future applications of AI in everyday life\n",
      "1. Smart home technology could be enhanced with AI for energy efficiency, security monitoring, and personalized home automation.\n",
      "2. Personalized shopping experiences could be tailored to individual preferences and browsing habits.\n",
      "3. In education, AI could enable personalized learning experiences and provide tutoring to students.\n",
      "4. Workforce automation and augmentation could transform industries and the way we work.\n",
      "\n",
      "IV. Challenges and ethical considerations\n",
      "1. Privacy concerns arise from the collection and use of personal data by AI systems.\n",
      "2. Bias in AI algorithms can perpetuate unfair or discriminatory outcomes.\n",
      "3. The impact on the job market raises questions about job displacement and the need for retraining.\n",
      "4. Potential for misuse or unintended consequences, such as AI systems making biased decisions or being vulnerable to hacking.\n",
      "\n",
      "V. Opportunities for innovation and growth\n",
      "1. Collaboration between AI researchers and industry can drive innovation and product development.\n",
      "2. Investing in AI education and skills development can prepare individuals for the jobs of the future.\n",
      "3. Ethical guidelines and regulations are necessary to ensure responsible development and deployment of AI technologies.\n",
      "4. AI has the potential to improve quality of life and address societal challenges in areas like healthcare, education, and environmental sustainability.\n",
      "\n",
      "VI. Conclusion\n",
      "AI technology is poised to become even more integrated into our everyday lives, offering both opportunities and challenges. As we look to the future of AI in everyday life, it is essential to consider the implications of its widespread adoption. By staying informed, engaging in discussions, and advocating for responsible AI development, we can shape a future where AI enhances our lives for the better. It is imperative for individuals and society as a whole to actively participate in the conversation surrounding the future of AI. By doing so, we can ensure that AI technology is leveraged in a way that benefits humanity while mitigating potential risks. Let us embrace the potential of AI while also being mindful of its impact on our lives.\n"
     ]
    }
   ],
   "source": [
    "print(final_state['blog'])"
   ]
  },
  {
   "cell_type": "code",
   "execution_count": null,
   "id": "98d9d58c",
   "metadata": {},
   "outputs": [],
   "source": []
  }
 ],
 "metadata": {
  "kernelspec": {
   "display_name": "myenv",
   "language": "python",
   "name": "python3"
  },
  "language_info": {
   "codemirror_mode": {
    "name": "ipython",
    "version": 3
   },
   "file_extension": ".py",
   "mimetype": "text/x-python",
   "name": "python",
   "nbconvert_exporter": "python",
   "pygments_lexer": "ipython3",
   "version": "3.11.3"
  }
 },
 "nbformat": 4,
 "nbformat_minor": 5
}
