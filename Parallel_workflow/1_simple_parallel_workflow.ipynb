{
 "cells": [
  {
   "cell_type": "code",
   "execution_count": 10,
   "id": "cb67e34b",
   "metadata": {},
   "outputs": [],
   "source": [
    "from langgraph.graph import StateGraph,START,END\n",
    "from typing import TypedDict\n",
    "from IPython.display import Image"
   ]
  },
  {
   "cell_type": "code",
   "execution_count": 11,
   "id": "6837ea81",
   "metadata": {},
   "outputs": [],
   "source": [
    "class BatsmanState(TypedDict):\n",
    "    runs : int\n",
    "    balls : int\n",
    "    fours : int\n",
    "    sixes : int\n",
    "\n",
    "    sr : float\n",
    "    bpb : float\n",
    "    boundary_percent : float\n",
    "\n",
    "    summary : str"
   ]
  },
  {
   "cell_type": "code",
   "execution_count": 18,
   "id": "06ac86cc",
   "metadata": {},
   "outputs": [],
   "source": [
    "def calculate_sr(state: BatsmanState)->BatsmanState:\n",
    "    balls = state['balls']\n",
    "    runs = state['runs']\n",
    "    sr = round(runs/balls,2)*100\n",
    "    return {'sr': sr}"
   ]
  },
  {
   "cell_type": "code",
   "execution_count": 19,
   "id": "a8af9071",
   "metadata": {},
   "outputs": [],
   "source": [
    "def calculate_bpb(state: BatsmanState) -> BatsmanState:\n",
    "    bpb = state['balls']/(state['fours']+state['sixes'])\n",
    "    return {'bpb': round(bpb,2)}"
   ]
  },
  {
   "cell_type": "code",
   "execution_count": 31,
   "id": "9a417e84",
   "metadata": {},
   "outputs": [],
   "source": [
    "def calculate_boundary_percent(state: BatsmanState)->BatsmanState:\n",
    "    cbp = round(((state['fours']*4)+(state['sixes']*6))/state['runs'],2)*100\n",
    "    return {'boundary_percent': round(cbp,2)}"
   ]
  },
  {
   "cell_type": "code",
   "execution_count": 32,
   "id": "3b0a5335",
   "metadata": {},
   "outputs": [],
   "source": [
    "def summary(state: BatsmanState)->BatsmanState:\n",
    "    summary = f\"\"\"\n",
    "Strike rate : {state['sr']}\\n\n",
    "Balls per boundary : {state['bpb']}\\n\n",
    "Boundary percentage : {state['boundary_percent']}\\n\n",
    "\"\"\"\n",
    "\n",
    "    return {'summary': summary}"
   ]
  },
  {
   "cell_type": "code",
   "execution_count": 33,
   "id": "3b83b4bf",
   "metadata": {},
   "outputs": [],
   "source": [
    "graph = StateGraph(BatsmanState)\n",
    "\n",
    "#nodes\n",
    "graph.add_node('calculate_sr',calculate_sr)\n",
    "graph.add_node('calculate_bpb',calculate_bpb)\n",
    "graph.add_node('calculate_boundary_percent',calculate_boundary_percent)\n",
    "graph.add_node('summary',summary)\n",
    "\n",
    "# edges\n",
    "graph.add_edge(START,'calculate_sr')\n",
    "graph.add_edge(START,'calculate_bpb')\n",
    "graph.add_edge(START,'calculate_boundary_percent')\n",
    "\n",
    "graph.add_edge('calculate_sr','summary')\n",
    "graph.add_edge('calculate_bpb','summary')\n",
    "graph.add_edge('calculate_boundary_percent','summary')\n",
    "\n",
    "graph.add_edge('summary',END)\n",
    "\n",
    "workflow = graph.compile()"
   ]
  },
  {
   "cell_type": "code",
   "execution_count": 34,
   "id": "6ce30b7f",
   "metadata": {},
   "outputs": [],
   "source": [
    "initail_state = {\n",
    "    'runs' : 120,\n",
    "    'balls' : 100,\n",
    "    'fours' : 10,\n",
    "    'sixes' : 5\n",
    "}\n",
    "\n",
    "final_state = workflow.invoke(initail_state)"
   ]
  },
  {
   "cell_type": "code",
   "execution_count": 35,
   "id": "06096a37",
   "metadata": {},
   "outputs": [
    {
     "name": "stdout",
     "output_type": "stream",
     "text": [
      "\n",
      "Strike rate : 120.0\n",
      "\n",
      "Balls per boundary : 6.67\n",
      "\n",
      "Boundary percentage : 58.0\n",
      "\n",
      "\n"
     ]
    }
   ],
   "source": [
    "print(final_state['summary'])"
   ]
  },
  {
   "cell_type": "code",
   "execution_count": null,
   "id": "c34dcf66",
   "metadata": {},
   "outputs": [],
   "source": []
  }
 ],
 "metadata": {
  "kernelspec": {
   "display_name": "myenv",
   "language": "python",
   "name": "python3"
  },
  "language_info": {
   "codemirror_mode": {
    "name": "ipython",
    "version": 3
   },
   "file_extension": ".py",
   "mimetype": "text/x-python",
   "name": "python",
   "nbconvert_exporter": "python",
   "pygments_lexer": "ipython3",
   "version": "3.11.3"
  }
 },
 "nbformat": 4,
 "nbformat_minor": 5
}
