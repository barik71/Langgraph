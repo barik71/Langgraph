{
 "cells": [
  {
   "cell_type": "code",
   "execution_count": 14,
   "id": "9f4af9e6",
   "metadata": {},
   "outputs": [],
   "source": [
    "from langgraph.graph import StateGraph, START,END\n",
    "from typing import TypedDict,Annotated\n",
    "from langchain_openai import ChatOpenAI\n",
    "from pydantic import BaseModel, Field\n",
    "from dotenv import load_dotenv\n",
    "import operator"
   ]
  },
  {
   "cell_type": "code",
   "execution_count": 15,
   "id": "c6deee72",
   "metadata": {},
   "outputs": [
    {
     "data": {
      "text/plain": [
       "True"
      ]
     },
     "execution_count": 15,
     "metadata": {},
     "output_type": "execute_result"
    }
   ],
   "source": [
    "load_dotenv()"
   ]
  },
  {
   "cell_type": "code",
   "execution_count": 16,
   "id": "07e5cebc",
   "metadata": {},
   "outputs": [],
   "source": [
    "model = ChatOpenAI(model_name='gpt-4o-mini')"
   ]
  },
  {
   "cell_type": "code",
   "execution_count": 17,
   "id": "f611b0dd",
   "metadata": {},
   "outputs": [],
   "source": [
    "class evaluationSchema(BaseModel):\n",
    "    feedback: str = Field(description='Detailed feedback on the given essay')\n",
    "    score : int = Field(description='Score from 0 to 10 based on the quality of the essay', ge=0, le=10)\n",
    "    "
   ]
  },
  {
   "cell_type": "code",
   "execution_count": 18,
   "id": "85a1c00b",
   "metadata": {},
   "outputs": [],
   "source": [
    "structured_model = model.with_structured_output(evaluationSchema)"
   ]
  },
  {
   "cell_type": "code",
   "execution_count": 19,
   "id": "cba710ac",
   "metadata": {},
   "outputs": [],
   "source": [
    "essay = \"\"\"The Role of Artificial Intelligence (AI) in Bangladesh\n",
    "Introduction\n",
    "\n",
    "Artificial Intelligence (AI) refers to technologies that allow machines or software to perform tasks which typically require human intelligence — such as learning, reasoning, perception, language understanding, planning, etc. Globally, AI is transforming how people live, work, and solve complex problems. In Bangladesh, AI is increasingly seen not just as a futuristic idea, but as a powerful tool that can drive development across many sectors. However, realizing AI’s full potential involves overcoming challenges in infrastructure, regulation, human capacity, and inclusion.\n",
    "\n",
    "Current State of AI in Bangladesh\n",
    "\n",
    "Bangladesh has already taken several steps toward integrating AI into its national development agenda. Key strategic documents like the National Strategy for Artificial Intelligence (2020) reflect the government’s intent to harness AI in governance, industry, agriculture, healthcare, finance, education, and more. \n",
    "Digital Watch Observatory\n",
    "\n",
    "Some real-world uses are:\n",
    "\n",
    "Healthcare: AI-assisted diagnostics, such as AI-powered chest X-rays for tuberculosis screening, have been used in rural clinics. \n",
    "Nucamp\n",
    "+2\n",
    "EyeNews.news\n",
    "+2\n",
    "\n",
    "Finance & Banking: Use of AI for fraud detection, risk analysis, credit scoring (especially using alternative data), and chatbot services are growing. \n",
    "LightCastle Partners\n",
    "+2\n",
    "EyeNews.news\n",
    "+2\n",
    "\n",
    "Agriculture: Tools that predict crop disease, optimize irrigation and fertilizer use, or otherwise assist farmers with data-driven advice are being deployed. \n",
    "EyeNews.news\n",
    "+2\n",
    "Dhaka AI\n",
    "+2\n",
    "\n",
    "Government & Public Services: Data-driven policy making, dashboards for monitoring development indicators, and digital transformation efforts are underway. \n",
    "Complete AI Training\n",
    "+3\n",
    "A2I\n",
    "+3\n",
    "Digital Watch Observatory\n",
    "+3\n",
    "\n",
    "Opportunities\n",
    "\n",
    "AI presents many opportunities for Bangladesh, if implemented thoughtfully:\n",
    "\n",
    "Boosting Productivity & Efficiency\n",
    "Automating repetitive or time-consuming tasks in manufacturing, textile (garment) industry, logistics, and customer service can reduce costs, errors and speed up operations. \n",
    "EyeNews.news\n",
    "+2\n",
    "TAQ\n",
    "+2\n",
    "\n",
    "Financial Inclusion\n",
    "Many people who lack formal credit histories or live in underserved areas may be excluded by traditional banking. AI systems can use alternative data (phone usage, transaction patterns, etc.) to assess risk and enable access to micro-loans or financial services. \n",
    "LightCastle Partners\n",
    "+1\n",
    "\n",
    "Healthcare Access and Quality\n",
    "AI-driven diagnostic tools, telemedicine, disease surveillance and predictive modeling can help reach rural and remote populations, where doctors and medical infrastructure are scarce. \n",
    "Nucamp\n",
    "+1\n",
    "\n",
    "Agriculture & Food Security\n",
    "AI can help maximize yield, reduce loss from pests and disease, optimize use of inputs like water and fertilizer, and help plan for climate-related risks. As agriculture remains a key sector, this can have big implications for livelihoods and national food security. \n",
    "EyeNews.news\n",
    "+1\n",
    "\n",
    "Smart Governance\n",
    "Through AI, government services can be made more responsive, transparent, and efficient. Data dashboards, predictive analytics, fraud detection in public services, AI chatbots for citizen queries — all can help improve governance. \n",
    "The Business Standard\n",
    "+3\n",
    "A2I\n",
    "+3\n",
    "Digital Watch Observatory\n",
    "+3\n",
    "\n",
    "Education and Skills Development\n",
    "AI tools can help personalize learning, support educators with analytics, and equip young people with skills relevant for the future job market in data science, machine learning, etc. \n",
    "lawyersclubbangladesh\n",
    "+2\n",
    "Digital Watch Observatory\n",
    "+2\n",
    "\n",
    "Challenges & Risks\n",
    "\n",
    "However, there are several challenges that Bangladesh must address to fully benefit from AI:\n",
    "\n",
    "Infrastructure & Connectivity\n",
    "High-speed internet, reliable power supply, computing resources (GPUs, servers), and data storage are unevenly available, especially in rural areas. These are essential for AI applications. \n",
    "EyeNews.news\n",
    "+2\n",
    "Dhaka AI\n",
    "+2\n",
    "\n",
    "Skill & Talent Gap\n",
    "There is a shortage of professionals trained specifically in AI, machine learning, data science, etc. To scale up, more educational programs, research capacity, and training are needed. \n",
    "EyeNews.news\n",
    "+2\n",
    "Digital Watch Observatory\n",
    "+2\n",
    "\n",
    "Data Limitations and Quality\n",
    "AI systems need good data. In Bangladesh, there are problems like lack of digitized data, inconsistent data collection, lack of local language datasets (especially Bangla), and concerns about data privacy. \n",
    "EyeNews.news\n",
    "+2\n",
    "TAQ\n",
    "+2\n",
    "\n",
    "Regulation, Ethics and Governance\n",
    "Issues like algorithmic bias, privacy, misuse of AI (deepfakes, misinformation), and lack of regulatory oversight are real risks. Ethical guidelines, legal frameworks, and oversight institutions are still evolving. \n",
    "Complete AI Training\n",
    "+3\n",
    "The Asian Age\n",
    "+3\n",
    "Digital Watch Observatory\n",
    "+3\n",
    "\n",
    "Cost & Funding\n",
    "Building and deploying AI solutions requires investment — in hardware, software, staff, maintenance. Many startups or institutions may struggle with these costs. Also, attracting R&D funding is challenging. \n",
    "TAQ\n",
    "+2\n",
    "Digital Watch Observatory\n",
    "+2\n",
    "\n",
    "Digital Divide & Inclusion\n",
    "If AI adoption remains concentrated in urban and well-resourced areas, rural and marginalized populations may be left behind. This could worsen inequalities. Ensuring equitable access is important. \n",
    "EyeNews.news\n",
    "+2\n",
    "The Financial Express\n",
    "+2\n",
    "\n",
    "Policy & Strategic Steps\n",
    "\n",
    "To overcome these challenges, Bangladesh has been making policy level efforts. Some of these are:\n",
    "\n",
    "The National Strategy for Artificial Intelligence (2020) which outlines strategic pillars like research & development, infrastructure, human capital, and ethical governance. \n",
    "Digital Watch Observatory\n",
    "\n",
    "The planned National AI Policy (to be finalized) to guide responsible, ethical AI adoption. \n",
    "DigiBanglaTech News\n",
    "\n",
    "The Digital Transformation strategy aiming for “Smart Bangladesh” vision by 2041, and interim targets for smart governance & digital economy by 2030. \n",
    "The Business Standard\n",
    "+1\n",
    "\n",
    "Government initiatives to promote data-driven policy making, create shared data platforms, dashboards, open government data, etc. \n",
    "A2I\n",
    "+1\n",
    "\n",
    "Future Prospects\n",
    "\n",
    "If Bangladesh continues to invest and plan well in this area, some of the future possibilities are:\n",
    "\n",
    "Advanced health diagnostics, possibly powered by AI, becoming more widely available in rural areas.\n",
    "\n",
    "Smarter agriculture (precision farming), which could significantly raise productivity and reduce environmental impact.\n",
    "\n",
    "AI helping with climate resilience, disaster prediction, and environmental management.\n",
    "\n",
    "Growth of AI-based entrepreneurship and startups, contributing to job creation and economic growth.\n",
    "\n",
    "Use of AI in transportation (traffic management, intelligent transport systems), city planning, smart utilities.\n",
    "\n",
    "Stronger governance, accountability, and citizen services made more efficient and citizen-friendly through AI tools.\n",
    "\n",
    "Conclusion\n",
    "\n",
    "Artificial Intelligence offers Bangladesh tremendous potential: from improving healthcare, boosting agricultural productivity, enhancing financial inclusion, and improving the efficiency of public services, to enabling a more equitable future. But the journey is not without obstacles. Infrastructure, skilled human resources, ethical frameworks, data quality, costs and inclusive access are real challenges that must be tackled.\n",
    "\n",
    "With clear policies, investment in education and research, regulatory safeguards, and inclusive implementation, AI can be a transformative force in Bangladesh — helping the country leap forward in its development trajectory, improve quality of life for millions, and move closer to its national vision for a smart, prosperous, digitally advanced society.\"\"\""
   ]
  },
  {
   "cell_type": "code",
   "execution_count": 20,
   "id": "b1f77a4f",
   "metadata": {},
   "outputs": [],
   "source": [
    "prompt = f'Evaluate the language quality of the following essay and provide a feedback and assign a score from 0 to 10\\n{essay}'"
   ]
  },
  {
   "cell_type": "code",
   "execution_count": 21,
   "id": "a35e5969",
   "metadata": {},
   "outputs": [
    {
     "data": {
      "text/plain": [
       "evaluationSchema(feedback=\"The essay provides a thorough exploration of the role of AI in Bangladesh, delineating its current state and potential opportunities, while also addressing significant challenges. The structure is clear, comprising well-defined sections that guide the reader through the information. The use of subheadings improves readability and organization. \\n\\nHowever, there are some areas for improvement:  \\n1. **Transition and Coherence**: Although the information is well organized, some sections could benefit from smoother transitions to enhance the overall flow of the essay. The ideas presented in each section can sometimes feel disjointed, which may detract from the argument's strength.\\n2. **Depth of Analysis**: While the essay lists various applications and challenges, deeper analysis or examples would help illustrate these points more effectively. For instance, more discussion on specific companies or initiatives using AI in Bangladesh could provide a richer context.\\n3. **Citations and References**: The mention of sources is a bit scattered and could confuse the reader since it appears as if some references might not be directly linked to the specific information. A more consistent citation style would enhance credibility.\\n4. **Grammar and Clarity**: The language used is generally clear but can be made more concise. There are some instances of redundancy that can be streamlined to improve clarity and comprehension.\\n5. **Conclusion and Future Prospects**: The conclusion effectively summarizes the opportunities and challenges but could more strongly emphasize actionable steps or recommendations for various stakeholders in Bangladesh to leverage AI effectively.\\n\\nOverall, the essay demonstrates good knowledge and understanding of the topic but would benefit from a bit more polish in coherence, depth, and clarity. \\n\", score=7)"
      ]
     },
     "execution_count": 21,
     "metadata": {},
     "output_type": "execute_result"
    }
   ],
   "source": [
    "structured_model.invoke(prompt)"
   ]
  },
  {
   "cell_type": "code",
   "execution_count": 22,
   "id": "85b3bc92",
   "metadata": {},
   "outputs": [],
   "source": [
    "class UPSCState(TypedDict):\n",
    "    essay : str\n",
    "    language_feedback : str\n",
    "    analysis_feedback : str\n",
    "    clarity_feedback : str\n",
    "    overall_feedback : str\n",
    "    individual_scores : Annotated[list[int],operator.add]\n",
    "    avg_score : float\n",
    "    "
   ]
  },
  {
   "cell_type": "code",
   "execution_count": 25,
   "id": "d5481a9e",
   "metadata": {},
   "outputs": [],
   "source": [
    "def evaluation_language(state: UPSCState):\n",
    "    prompt = f\"Evaluate the language quality of the following essay and provide a feedback and assign a score from 0 to 10 \\n{state['essay']}\"\n",
    "    output = structured_model.invoke(prompt)\n",
    "    \n",
    "    return {\n",
    "        \"language_feedback\": output.feedback,\n",
    "        \"individual_scores\": [output.score]\n",
    "    }"
   ]
  },
  {
   "cell_type": "code",
   "execution_count": 35,
   "id": "b858e022",
   "metadata": {},
   "outputs": [],
   "source": [
    "def evaluation_analysis(state: UPSCState):\n",
    "    prompt = f\"Evaluate the deep analysis quality of the following essay and provide a feedback and assign a score from 0 to 10 \\n{state['essay']}\"\n",
    "    output = structured_model.invoke(prompt)\n",
    "    \n",
    "    return {\n",
    "        \"analysis_feedback\": output.feedback,\n",
    "        \"individual_scores\": [output.score]\n",
    "    }\n"
   ]
  },
  {
   "cell_type": "code",
   "execution_count": 36,
   "id": "6957b679",
   "metadata": {},
   "outputs": [],
   "source": [
    "def evaluation_clarity(state: UPSCState):\n",
    "    prompt = f\"Evaluate the thought of clarity of the following essay and provide a feedback and assign a score from 0 to 10 \\n{state['essay']}\"\n",
    "    output = structured_model.invoke(prompt)\n",
    "    \n",
    "    return {\n",
    "        \"clarity_feedback\": output.feedback,\n",
    "        \"individual_scores\": [output.score]\n",
    "    }\n"
   ]
  },
  {
   "cell_type": "code",
   "execution_count": 37,
   "id": "8878d594",
   "metadata": {},
   "outputs": [],
   "source": [
    "def overall_evaluation(state: UPSCState):\n",
    "    prompt = f\"based on the following feedback create a summarized feedback \\n language feedback - {state['language_feedback']}, analysis feedback - {state['analysis_feedback']}, clarity feedback - {state['clarity_feedback']}\\n\"\n",
    "\n",
    "    overall_feedback = model.invoke(prompt).content\n",
    "\n",
    "    avg_score = sum(state['individual_scores']) / len(state['individual_scores']) if state['individual_scores'] else 0\n",
    "\n",
    "    return {\n",
    "        \"overall_feedback\": overall_feedback,\n",
    "        \"avg_score\": avg_score\n",
    "    }"
   ]
  },
  {
   "cell_type": "code",
   "execution_count": 38,
   "id": "807c9dae",
   "metadata": {},
   "outputs": [],
   "source": [
    "graph = StateGraph(UPSCState)\n",
    "\n",
    "# nodes\n",
    "graph.add_node('evaluation_language',evaluation_language)\n",
    "graph.add_node('evaluation_analysis',evaluation_analysis)\n",
    "graph.add_node('evaluation_clarity',evaluation_clarity)\n",
    "graph.add_node('overall_evaluation',overall_evaluation)\n",
    "\n",
    "# edges\n",
    "graph.add_edge(START,'evaluation_language')\n",
    "graph.add_edge(START,'evaluation_analysis')\n",
    "graph.add_edge(START,'evaluation_clarity')\n",
    "graph.add_edge('evaluation_language','overall_evaluation')\n",
    "graph.add_edge('evaluation_analysis','overall_evaluation')\n",
    "graph.add_edge('evaluation_clarity','overall_evaluation')\n",
    "\n",
    "graph.add_edge('overall_evaluation',END)\n",
    "\n",
    "workflow = graph.compile()\n"
   ]
  },
  {
   "cell_type": "code",
   "execution_count": 39,
   "id": "5d28ba59",
   "metadata": {},
   "outputs": [
    {
     "data": {
      "image/png": "[encoded data removed]",
      "text/plain": [
       "<langgraph.graph.state.CompiledStateGraph object at 0x0000018E9E1481D0>"
      ]
     },
     "execution_count": 39,
     "metadata": {},
     "output_type": "execute_result"
    }
   ],
   "source": [
    "workflow"
   ]
  },
  {
   "cell_type": "code",
   "execution_count": 40,
   "id": "e5278692",
   "metadata": {},
   "outputs": [],
   "source": [
    "initial_state = {\"essay\": essay}\n"
   ]
  },
  {
   "cell_type": "code",
   "execution_count": 41,
   "id": "35c67c36",
   "metadata": {},
   "outputs": [
    {
     "data": {
      "text/plain": [
       "{'essay': 'The Role of Artificial Intelligence (AI) in Bangladesh\\nIntroduction\\n\\nArtificial Intelligence (AI) refers to technologies that allow machines or software to perform tasks which typically require human intelligence — such as learning, reasoning, perception, language understanding, planning, etc. Globally, AI is transforming how people live, work, and solve complex problems. In Bangladesh, AI is increasingly seen not just as a futuristic idea, but as a powerful tool that can drive development across many sectors. However, realizing AI’s full potential involves overcoming challenges in infrastructure, regulation, human capacity, and inclusion.\\n\\nCurrent State of AI in Bangladesh\\n\\nBangladesh has already taken several steps toward integrating AI into its national development agenda. Key strategic documents like the National Strategy for Artificial Intelligence (2020) reflect the government’s intent to harness AI in governance, industry, agriculture, healthcare, finance, education, and more. \\nDigital Watch Observatory\\n\\nSome real-world uses are:\\n\\nHealthcare: AI-assisted diagnostics, such as AI-powered chest X-rays for tuberculosis screening, have been used in rural clinics. \\nNucamp\\n+2\\nEyeNews.news\\n+2\\n\\nFinance & Banking: Use of AI for fraud detection, risk analysis, credit scoring (especially using alternative data), and chatbot services are growing. \\nLightCastle Partners\\n+2\\nEyeNews.news\\n+2\\n\\nAgriculture: Tools that predict crop disease, optimize irrigation and fertilizer use, or otherwise assist farmers with data-driven advice are being deployed. \\nEyeNews.news\\n+2\\nDhaka AI\\n+2\\n\\nGovernment & Public Services: Data-driven policy making, dashboards for monitoring development indicators, and digital transformation efforts are underway. \\nComplete AI Training\\n+3\\nA2I\\n+3\\nDigital Watch Observatory\\n+3\\n\\nOpportunities\\n\\nAI presents many opportunities for Bangladesh, if implemented thoughtfully:\\n\\nBoosting Productivity & Efficiency\\nAutomating repetitive or time-consuming tasks in manufacturing, textile (garment) industry, logistics, and customer service can reduce costs, errors and speed up operations. \\nEyeNews.news\\n+2\\nTAQ\\n+2\\n\\nFinancial Inclusion\\nMany people who lack formal credit histories or live in underserved areas may be excluded by traditional banking. AI systems can use alternative data (phone usage, transaction patterns, etc.) to assess risk and enable access to micro-loans or financial services. \\nLightCastle Partners\\n+1\\n\\nHealthcare Access and Quality\\nAI-driven diagnostic tools, telemedicine, disease surveillance and predictive modeling can help reach rural and remote populations, where doctors and medical infrastructure are scarce. \\nNucamp\\n+1\\n\\nAgriculture & Food Security\\nAI can help maximize yield, reduce loss from pests and disease, optimize use of inputs like water and fertilizer, and help plan for climate-related risks. As agriculture remains a key sector, this can have big implications for livelihoods and national food security. \\nEyeNews.news\\n+1\\n\\nSmart Governance\\nThrough AI, government services can be made more responsive, transparent, and efficient. Data dashboards, predictive analytics, fraud detection in public services, AI chatbots for citizen queries — all can help improve governance. \\nThe Business Standard\\n+3\\nA2I\\n+3\\nDigital Watch Observatory\\n+3\\n\\nEducation and Skills Development\\nAI tools can help personalize learning, support educators with analytics, and equip young people with skills relevant for the future job market in data science, machine learning, etc. \\nlawyersclubbangladesh\\n+2\\nDigital Watch Observatory\\n+2\\n\\nChallenges & Risks\\n\\nHowever, there are several challenges that Bangladesh must address to fully benefit from AI:\\n\\nInfrastructure & Connectivity\\nHigh-speed internet, reliable power supply, computing resources (GPUs, servers), and data storage are unevenly available, especially in rural areas. These are essential for AI applications. \\nEyeNews.news\\n+2\\nDhaka AI\\n+2\\n\\nSkill & Talent Gap\\nThere is a shortage of professionals trained specifically in AI, machine learning, data science, etc. To scale up, more educational programs, research capacity, and training are needed. \\nEyeNews.news\\n+2\\nDigital Watch Observatory\\n+2\\n\\nData Limitations and Quality\\nAI systems need good data. In Bangladesh, there are problems like lack of digitized data, inconsistent data collection, lack of local language datasets (especially Bangla), and concerns about data privacy. \\nEyeNews.news\\n+2\\nTAQ\\n+2\\n\\nRegulation, Ethics and Governance\\nIssues like algorithmic bias, privacy, misuse of AI (deepfakes, misinformation), and lack of regulatory oversight are real risks. Ethical guidelines, legal frameworks, and oversight institutions are still evolving. \\nComplete AI Training\\n+3\\nThe Asian Age\\n+3\\nDigital Watch Observatory\\n+3\\n\\nCost & Funding\\nBuilding and deploying AI solutions requires investment — in hardware, software, staff, maintenance. Many startups or institutions may struggle with these costs. Also, attracting R&D funding is challenging. \\nTAQ\\n+2\\nDigital Watch Observatory\\n+2\\n\\nDigital Divide & Inclusion\\nIf AI adoption remains concentrated in urban and well-resourced areas, rural and marginalized populations may be left behind. This could worsen inequalities. Ensuring equitable access is important. \\nEyeNews.news\\n+2\\nThe Financial Express\\n+2\\n\\nPolicy & Strategic Steps\\n\\nTo overcome these challenges, Bangladesh has been making policy level efforts. Some of these are:\\n\\nThe National Strategy for Artificial Intelligence (2020) which outlines strategic pillars like research & development, infrastructure, human capital, and ethical governance. \\nDigital Watch Observatory\\n\\nThe planned National AI Policy (to be finalized) to guide responsible, ethical AI adoption. \\nDigiBanglaTech News\\n\\nThe Digital Transformation strategy aiming for “Smart Bangladesh” vision by 2041, and interim targets for smart governance & digital economy by 2030. \\nThe Business Standard\\n+1\\n\\nGovernment initiatives to promote data-driven policy making, create shared data platforms, dashboards, open government data, etc. \\nA2I\\n+1\\n\\nFuture Prospects\\n\\nIf Bangladesh continues to invest and plan well in this area, some of the future possibilities are:\\n\\nAdvanced health diagnostics, possibly powered by AI, becoming more widely available in rural areas.\\n\\nSmarter agriculture (precision farming), which could significantly raise productivity and reduce environmental impact.\\n\\nAI helping with climate resilience, disaster prediction, and environmental management.\\n\\nGrowth of AI-based entrepreneurship and startups, contributing to job creation and economic growth.\\n\\nUse of AI in transportation (traffic management, intelligent transport systems), city planning, smart utilities.\\n\\nStronger governance, accountability, and citizen services made more efficient and citizen-friendly through AI tools.\\n\\nConclusion\\n\\nArtificial Intelligence offers Bangladesh tremendous potential: from improving healthcare, boosting agricultural productivity, enhancing financial inclusion, and improving the efficiency of public services, to enabling a more equitable future. But the journey is not without obstacles. Infrastructure, skilled human resources, ethical frameworks, data quality, costs and inclusive access are real challenges that must be tackled.\\n\\nWith clear policies, investment in education and research, regulatory safeguards, and inclusive implementation, AI can be a transformative force in Bangladesh — helping the country leap forward in its development trajectory, improve quality of life for millions, and move closer to its national vision for a smart, prosperous, digitally advanced society.',\n",
       " 'language_feedback': \"The essay provides a comprehensive overview of the role of Artificial Intelligence (AI) in Bangladesh, breaking down its current state, opportunities, challenges, policy measures, and future prospects. The structure is clear and logical, guiding the reader through the various facets of AI's impact in the country. The use of headings enhances readability and facilitates understanding. However, the essay could benefit from more varied sentence structures and engaging transitions to maintain reader interest throughout. Additionally, some sections could be elaborated, particularly the challenges and risks, to provide a more balanced view. Minor grammatical errors and inconsistencies in citation format detract slightly from the overall polish of the piece. Overall, the essay is informative and well-organized, with room for improvement in language fluidity and depth of analysis.\",\n",
       " 'analysis_feedback': \"The essay provides a well-structured analysis of the role of Artificial Intelligence (AI) in Bangladesh, with clear sections detailing the current state, opportunities, challenges, and future prospects of AI in the country. The introduction effectively sets the stage for the discussion and highlights the multifaceted impacts of AI on various sectors. \\n\\nThe details included about specific applications in healthcare, finance, agriculture, government services, and education demonstrate a comprehensive understanding of AI's potential benefits. Additionally, the recognition of challenges such as infrastructure gaps, skill shortages, data quality issues, and ethical concerns is commendable and showcases a balanced viewpoint.\\n\\nHowever, the essay could benefit from deeper analysis in some areas, including a more detailed examination of the social implications of AI, how these challenges can be specifically addressed, and perhaps case studies or examples of successful AI applications within Bangladesh to illustrate points more vividly. It could also explore the interplay between AI developers and vulnerable populations to highlight issues of equity and accessibility in more depth. \\n\\nLastly, while the conclusions are optimistic, they could more robustly anticipate the possible negative consequences of AI adoption, ensuring a critical perspective on the technology’s integration into society.\\n\\nOverall, the essay showcases solid research, clear organization, and a good balance of optimism and realism regarding the future of AI in Bangladesh.\",\n",
       " 'clarity_feedback': 'The essay on \"The Role of Artificial Intelligence (AI) in Bangladesh\" provides a comprehensive overview of AI\\'s potential impacts across various sectors, outlining both opportunities and challenges. The progression from introduction to conclusion is logical, and it breaks down key areas where AI is already making a difference in Bangladesh, such as healthcare, agriculture, finance, and governance. However, to enhance the clarity of thought, certain aspects could be improved:\\n\\n1. **Structure and Organization:** While the essay has a systematic flow, the mention of sources and references clutter the main narrative. A cleaner presentation would help improve readability.\\n\\n2. **Explanation of Terms:** Some terms or concepts, such as \"predictive modeling\" or \"algorithmic bias,\" could benefit from a brief explanation for readers unfamiliar with AI jargon.\\n\\n3. **Depth of Analysis:** It offers a high-level overview of opportunities and challenges but could benefit from specific examples or case studies to illustrate points more vividly.\\n\\n4. **Transitions:** The transitions between sections could be smoother. Using transitional phrases would help guide the reader through the essay’s various arguments more fluidly.\\n\\n5. **Conclusion Emphasis:** The conclusion nicely summarizes the essay but could reiterate the urgency of addressing identified challenges and the potential impact on Bangladesh’s society and economy more emphatically.\\n\\nOverall, the essay demonstrates a solid understanding and presents thoughtful insights, but enhancing these areas could significantly improve clarity and impact.',\n",
       " 'overall_feedback': '**Summarized Feedback on the Essay: \"The Role of Artificial Intelligence (AI) in Bangladesh\"**\\n\\nThe essay offers a comprehensive and well-structured overview of the role of Artificial Intelligence (AI) in Bangladesh, detailing its current state, opportunities, challenges, and future prospects across various sectors such as healthcare, agriculture, finance, and governance. The clear organization and use of headings enhance readability, while the introduction sets a solid foundation for the discussion.\\n\\nHowever, there are areas for improvement:\\n\\n1. **Language and Style:** The essay could benefit from varied sentence structures and more engaging transitions to sustain reader interest. Minor grammatical errors and inconsistencies in citation formats slightly detract from its overall polish.\\n\\n2. **Depth of Analysis:** While the essay acknowledges significant challenges like infrastructure gaps, skill shortages, and ethical concerns, it would gain from deeper exploration of these issues, including specific examples or case studies demonstrating successful AI applications in Bangladesh. The essay should also address the social implications of AI and the interplay between developers and vulnerable populations regarding equity and accessibility.\\n\\n3. **Clarity and Organization:** Although the structure is generally effective, the integration of sources and references could be streamlined for better readability. Some technical terms should be briefly defined for clarity, particularly for readers unfamiliar with AI terminology. Additionally, transitions between sections could be smoothed with transitional phrases.\\n\\n4. **Conclusion:** The conclusion effectively summarizes the findings but could emphasize the urgency of addressing the identified challenges, highlighting potential impacts on society and the economy.\\n\\nOverall, the essay displays solid research and thoughtful insights, yet enhancing these areas would significantly improve clarity, depth, and overall impact.',\n",
       " 'individual_scores': [8, 7, 7],\n",
       " 'avg_score': 7.333333333333333}"
      ]
     },
     "execution_count": 41,
     "metadata": {},
     "output_type": "execute_result"
    }
   ],
   "source": [
    "workflow.invoke(initial_state)"
   ]
  },
  {
   "cell_type": "code",
   "execution_count": null,
   "id": "df20fbb8",
   "metadata": {},
   "outputs": [],
   "source": []
  }
 ],
 "metadata": {
  "kernelspec": {
   "display_name": "myenv",
   "language": "python",
   "name": "python3"
  },
  "language_info": {
   "codemirror_mode": {
    "name": "ipython",
    "version": 3
   },
   "file_extension": ".py",
   "mimetype": "text/x-python",
   "name": "python",
   "nbconvert_exporter": "python",
   "pygments_lexer": "ipython3",
   "version": "3.11.3"
  }
 },
 "nbformat": 4,
 "nbformat_minor": 5
}
